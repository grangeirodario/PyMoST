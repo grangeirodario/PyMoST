{
 "cells": [
  {
   "cell_type": "code",
   "execution_count": null,
   "id": "e2495bf6-07b9-4386-93ad-40c4dc9c4ea7",
   "metadata": {},
   "outputs": [],
   "source": [
    "import matplotlib.pyplot as plt\n",
    "import numpy as np\n",
    "import cv2 as cv\n",
    "import hvpy\n",
    "import astropy.units as u"
   ]
  },
  {
   "cell_type": "code",
   "execution_count": null,
   "id": "3ffd0ed3-5d46-413b-8d38-3cc74f6a9375",
   "metadata": {},
   "outputs": [],
   "source": [
    "from astropy.time import Time\n",
    "from astropy.coordinates import SkyCoord\n",
    "from astropy.timeseries import BinnedTimeSeries\n",
    "from astropy.timeseries import TimeSeries"
   ]
  },
  {
   "cell_type": "code",
   "execution_count": null,
   "id": "e48b16f7-70e0-4e2a-ac63-6d717a1dc790",
   "metadata": {},
   "outputs": [],
   "source": [
    "from scipy import ndimage\n",
    "from skimage import measure"
   ]
  },
  {
   "cell_type": "code",
   "execution_count": null,
   "id": "8f8dd13b-5e01-4215-a8df-ac6a4b8ac79d",
   "metadata": {},
   "outputs": [],
   "source": [
    "from sunpy.map import Map\n",
    "from sunpy.coordinates import frames\n",
    "from sunpy.map.maputils import all_coordinates_from_map, coordinate_is_on_solar_disk"
   ]
  },
  {
   "cell_type": "code",
   "execution_count": null,
   "id": "927f025c-8983-4db9-8b30-c420d3d14d0e",
   "metadata": {},
   "outputs": [],
   "source": [
    "def main(time): # function that receives as a parameter the time series to be analyzed\n",
    "    \n",
    "    Day = []   # python list that receive time objects from maps\n",
    "    Latitudes = [] # python list that receives the latitudes of the sunspots of the respective time objects\n",
    "    Areas = [] # python list that receives the areas of the spots of the respective time objects\n",
    "    Number_of_Sunspot_Groups = []  # python list that receives the number of the spots groups of the respective time objects\n",
    "     \n",
    "    for i in range(len(time)): # repeating loop to open images day by day\n",
    "        day = time[i][0]\n",
    "        print(day)\n",
    "        flaws = Time(['1998-11-18T12:00:00', '1998-11-19T12:00:00', '1998-11-20T12:00:00', '1998-11-21T12:00:00',\n",
    "                      '2002-08-26T12:00:00', '2004-03-09T00:00:00','2005-07-17T12:00:00', '2008-04-26T12:00:00', \n",
    "                      '2008-08-03T12:00:00', '2009-03-28T12:00:00', '2010-03-08T12:00:00'])\n",
    "        \n",
    "        try: # The exception for error is due to some images with capture errors present in the sasos database \n",
    "            # or internet connection problems when running the code. This way, progress is not lost. \n",
    "            # It is recommended to test the code without the exession to verify that it works correctly.\n",
    "        # the dates above are dates in which the images have some type of capture anomaly, which impairs the detection of spots. We chose to remove them\n",
    "\n",
    "            if day in flaws: # If the analysis date is in the list of defective dates, only the date and missing data for latitude, area and sunspot group are added to the output data.\n",
    "                Day.append(day.value)\n",
    "                Latitudes.append(np.NaN)\n",
    "                Areas.append(np.NaN)\n",
    "                Number_of_Sunspot_Groups.append(0)\n",
    "\n",
    "            else: # Otherwise, the algorithm follows\n",
    "                \n",
    "                map_file =  get_map(day) # Create the coordinate map\n",
    "                tophat_map = top_hat(day, map_file) # Apply the transform\n",
    "                erode_map = erode(day, tophat_map) # Apply erosion to the transformed image\n",
    "                sun_radius = get_sun_radius(map_file) # get the sun's ray in pixels\n",
    "                contours = get_contours(tophat_map) # contours to sunspots\n",
    "                group_contours = get_contours(erode_map) # contours to sunspots groups\n",
    "\n",
    "\n",
    "                if len(contours) == 0:  # If the image has no sunspots, add missing data to the algorithm output\n",
    "                    Day.append(map_file.date.value)\n",
    "                    Latitudes.append(np.NaN)\n",
    "                    Areas.append(np.NaN)\n",
    "\n",
    "                else: # If it has sunsspots, it obtains the latitudes, longitudes and areas of each one.\n",
    "                    latitudes, longitudes, Am = get_coord_and_area(contours, tophat_map, sun_radius)\n",
    "\n",
    "                    for j in range(len(latitudes)):\n",
    "                        Day.append(map_file.date.value)\n",
    "                        Latitudes.append(latitudes[j])\n",
    "                        Areas.append(Am[j])\n",
    "                        \n",
    "                if len(group_contours) == 0:  # If the image has no sunspots, add missing data to the algorithm output\n",
    "                    Number_of_Sunspot_Groups.append(0)\n",
    "                else: # If it has sunspots, it obtains the number of sunspot groups\n",
    "                    Number_of_Sunspot_Groups.append(len(contours))\n",
    "        except:\n",
    "            Day.append(Time(day))\n",
    "            Latitudes.append(np.NaN)\n",
    "            Areas.append(np.NaN)\n",
    "            Number_of_Sunspot_Groups.append(0)\n",
    "            \n",
    "    return Day, Latitudes, Areas, Number_of_Sunspot_Groups"
   ]
  },
  {
   "cell_type": "code",
   "execution_count": null,
   "id": "3752727d-f480-45ce-8ce2-292068e8c505",
   "metadata": {},
   "outputs": [],
   "source": [
    "def get_map(day):\n",
    "    \n",
    "    if day < Time('2010-12-06'):  \n",
    "        s_id = hvpy.DataSource.MDI_INT.value # for dates before 12/06/2010, we must use the MDI instrument\n",
    "    else:\n",
    "        s_id= hvpy.DataSource.HMI_INT.value # for dates after 12/06/2010, we must use the HMI instrument\n",
    "        \n",
    "    hmi_file = hvpy.save_file(hvpy.getJP2Image(day.datetime, s_id), \"T.JPEG2000\",  overwrite=True) # get the jpeg2000 file of the base of the Helioview\n",
    "    map_file = Map(hmi_file) # Create a coordinate map from jpg2000 metadata using Sunpy\n",
    "    \n",
    "    return map_file"
   ]
  },
  {
   "cell_type": "code",
   "execution_count": null,
   "id": "3185be01-e571-45f3-b3a2-62072a98ef6d",
   "metadata": {},
   "outputs": [],
   "source": [
    "def top_hat(day, map_file):\n",
    "    \n",
    "    pixel_matrix = 255 - map_file.data # create negative image\n",
    "\n",
    "    if day < Time('2010-12-06'):\n",
    "        pixel_matrix = cv.medianBlur(pixel_matrix, 5) # Filter to enhance the transform\n",
    "        kernel = cv.getStructuringElement(cv.MORPH_ELLIPSE,(45,45)) #  define the size and type of structuring element used\n",
    "    else:\n",
    "        pixel_matrix = cv.medianBlur(pixel_matrix,15) \n",
    "        kernel = cv.getStructuringElement(cv.MORPH_ELLIPSE,(135,135))\n",
    "    \n",
    "    tophat = cv.morphologyEx(pixel_matrix, cv.MORPH_TOPHAT, kernel) # Apply the transform\n",
    "    _, binary = cv.threshold(tophat,15,255,cv.THRESH_BINARY_INV) # Apply the binarization\n",
    "    tophat_map = Map(binary, map_file.meta) # Creates a new coordinate map\n",
    "    \n",
    "    return tophat_map"
   ]
  },
  {
   "cell_type": "code",
   "execution_count": null,
   "id": "9ac503c7-6bad-4106-a51e-562bcd545354",
   "metadata": {},
   "outputs": [],
   "source": [
    "def get_sun_radius(map_file):\n",
    "    \n",
    "    # In this part, we create a Boolean mask, where the true values indicate the solar disk \n",
    "    # from that, we outline the entire disk and obtain the regions outlined in x and y \n",
    "    # after that, we subtract the end of the x region from the beginning of the x region and obtain the diameter of the sun \n",
    "    # and dividing the diameter by 2 we get the sun's radius in pixels.\n",
    "    \n",
    "    hpc_coords = all_coordinates_from_map(map_file)\n",
    "    mask = coordinate_is_on_solar_disk(hpc_coords)\n",
    "    cont_sun = measure.find_contours(mask, 1)\n",
    "    labeled_mask, num_labels = ndimage.label(mask)\n",
    "    regions = ndimage.find_objects(labeled_mask)\n",
    "\n",
    "    for r in regions:\n",
    "        dy, dx = r\n",
    "        radius = (dx.stop - dx.start)/2\n",
    "    \n",
    "    return radius"
   ]
  },
  {
   "cell_type": "code",
   "execution_count": null,
   "id": "1641b549-0643-48b1-ab2e-d1a64b86406b",
   "metadata": {},
   "outputs": [],
   "source": [
    "def erode(day, map_file):\n",
    "    pixel_matrix = map_file.data \n",
    "\n",
    "    if day < Time('2010-12-06'):\n",
    "        pixel_matrix = cv.medianBlur(pixel_matrix, 5) # Filter to enhance the transform\n",
    "        kernel = cv.getStructuringElement(cv.MORPH_ELLIPSE,(45,45)) #  define the size and type of structuring element used\n",
    "    else:\n",
    "        pixel_matrix = cv.medianBlur(pixel_matrix,15) \n",
    "        kernel = cv.getStructuringElement(cv.MORPH_ELLIPSE,(135,135))\n",
    "    \n",
    "    erode = cv.erode(pixel_matrix, kernel, iterations=1) # Image erosion for joining sunspots into groups\n",
    "    erode_map = Map(erode, map_file.meta) # Creating a  Erode map\n",
    "    \n",
    "    return erode_map"
   ]
  },
  {
   "cell_type": "code",
   "execution_count": null,
   "id": "31d4e2c7-de41-44a1-872c-9e74422cde6e",
   "metadata": {},
   "outputs": [],
   "source": [
    "def get_contours(tophat_map): # In this part, we outline the sunspots present in the transformed image\n",
    "\n",
    "    threshold = 0\n",
    "    binary_image = tophat_map.data == threshold\n",
    "    contours, hierarchy = cv.findContours(binary_image.astype(np.uint8), cv.RETR_EXTERNAL, cv.CHAIN_APPROX_SIMPLE)\n",
    "    \n",
    "    return contours"
   ]
  },
  {
   "cell_type": "code",
   "execution_count": null,
   "id": "1e7d6772-92b3-4358-bf47-c2cf0bc8f275",
   "metadata": {},
   "outputs": [],
   "source": [
    "def get_coord_and_area(contours, tophat_map, sun_radius):\n",
    "    posição_x = []\n",
    "    posição_y = []\n",
    "    areas_pixels = []\n",
    "    \n",
    "    # In this part, we calculate the area in pixels of the contours found in the previous function, as well as the sunspot centroid\n",
    "    \n",
    "    for cnt in contours:\n",
    "        area = cv.contourArea(cnt)\n",
    "        if area > 16:\n",
    "            areas_pixels.append(area)\n",
    "            M = cv.moments(cnt)\n",
    "            cx = int(M['m10'] / M['m00'])\n",
    "            cy = int(M['m01'] / M['m00'])\n",
    "            posição_x.append(cx)\n",
    "            posição_y.append(cy)\n",
    "    \n",
    "        # In this part, we convert the position of sunspot centroids to stonyhurts coordinates\n",
    "        \n",
    "        coord = tophat_map.pixel_to_world(posição_x*u.pix, posição_y*u.pix)\n",
    "        x_arc, y_arc = coord.Tx, coord.Ty\n",
    "\n",
    "        c = SkyCoord(x_arc.value*u.arcsec, y_arc.value*u.arcsec, frame=frames.Helioprojective, obstime=tophat_map.date,\n",
    "                        observer=\"earth\")\n",
    "        c = c.transform_to(frames.HeliographicStonyhurst)\n",
    "\n",
    "        long = c.lon.value\n",
    "        lat = c.lat.value\n",
    "\n",
    "        latitudes = [La for La in lat]\n",
    "        longitudes = [Lo for Lo in long]\n",
    "        \n",
    "        # In this part, we convert the area of sunspots from pixels to millionths of a solar hemisphere\n",
    "        \n",
    "        Am = [(As*10**6)/(2*np.pi*sun_radius**2*np.cos(np.radians(Ro))) for As, Ro in zip(areas_pixels, longitudes)]\n",
    "        \n",
    "    return latitudes, longitudes, Am"
   ]
  },
  {
   "cell_type": "code",
   "execution_count": null,
   "id": "bf3bbf41-eb94-4080-8b2b-83924f733658",
   "metadata": {},
   "outputs": [],
   "source": [
    "time = BinnedTimeSeries(time_bin_start= '1998-01-01T18:00:00', \n",
    "                       time_bin_size=1 * u.d, n_bins=9709)  # Time series containing the initial observation bin and the number of bins to be observed"
   ]
  },
  {
   "cell_type": "code",
   "execution_count": null,
   "id": "960aa2f0-4518-49cc-a667-00d2ddfb6940",
   "metadata": {},
   "outputs": [],
   "source": [
    "if __name__ == '__main__':\n",
    "    Day, Latitudes, Areas, Number_of_Sunspot_Groups = main(time) "
   ]
  },
  {
   "cell_type": "code",
   "execution_count": null,
   "id": "c80aa694-2511-4f47-bc38-4886763cdf60",
   "metadata": {},
   "outputs": [],
   "source": [
    "# After the code is finished, two csv files are generated. One with individual sunspots and the other with the number of groups of spots per day"
   ]
  },
  {
   "cell_type": "code",
   "execution_count": null,
   "id": "efcb46fc-25fa-4d4b-bb92-98d07f652f97",
   "metadata": {},
   "outputs": [],
   "source": [
    "lista = [Time(i) for i in Day]\n",
    "Day = lista"
   ]
  },
  {
   "cell_type": "code",
   "execution_count": null,
   "id": "527a555d-b559-436f-90ea-c325d3392440",
   "metadata": {},
   "outputs": [],
   "source": [
    "ts1 = TimeSeries(time = Day)\n",
    "\n",
    "ts1['Lat'] = Latitudes\n",
    "ts1['Area'] = Areas\n",
    "\n",
    "df1 = ts1.to_pandas()\n",
    "df1.to_csv('Sunspots.csv')"
   ]
  },
  {
   "cell_type": "code",
   "execution_count": null,
   "id": "0806c1c2-bbfe-4c4a-9f0a-f71b5d869471",
   "metadata": {},
   "outputs": [],
   "source": [
    "ts2 = time\n",
    "\n",
    "ts2['Number of Sunspot_Groups'] = Number_of_Sunspot_Groups\n",
    "df2 = ts2.to_pandas()\n",
    "df2.to_csv('Groups.csv')"
   ]
  },
  {
   "cell_type": "code",
   "execution_count": null,
   "id": "af889301-e9ae-4750-a75b-1c2036c37e55",
   "metadata": {},
   "outputs": [],
   "source": []
  },
  {
   "cell_type": "code",
   "execution_count": null,
   "id": "8d4dd17a-d741-4c30-ac9d-6eba9a5d9fd6",
   "metadata": {},
   "outputs": [],
   "source": []
  }
 ],
 "metadata": {
  "kernelspec": {
   "display_name": "Python 3 (ipykernel)",
   "language": "python",
   "name": "python3"
  },
  "language_info": {
   "codemirror_mode": {
    "name": "ipython",
    "version": 3
   },
   "file_extension": ".py",
   "mimetype": "text/x-python",
   "name": "python",
   "nbconvert_exporter": "python",
   "pygments_lexer": "ipython3",
   "version": "3.12.3"
  }
 },
 "nbformat": 4,
 "nbformat_minor": 5
}
